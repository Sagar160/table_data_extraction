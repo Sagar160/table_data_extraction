{
 "cells": [
  {
   "cell_type": "code",
   "execution_count": 12,
   "metadata": {},
   "outputs": [],
   "source": [
    "import PyPDF2\n",
    "from pathlib import Path\n",
    "import ocrmypdf\n",
    "import camelot\n",
    "import pandas"
   ]
  },
  {
   "cell_type": "code",
   "execution_count": 2,
   "metadata": {},
   "outputs": [
    {
     "name": "stdout",
     "output_type": "stream",
     "text": [
      "data/file_00.pdf\n",
      "data/file_01.pdf\n",
      "data/file_02.pdf\n",
      "data/file_03.pdf\n",
      "data/file_04.pdf\n",
      "data/file_05.pdf\n",
      "data/file_06.pdf\n",
      "data/file_07.pdf\n",
      "data/file_08.pdf\n",
      "data/file_09.pdf\n",
      "data/file_10.pdf\n",
      "data/file_11.pdf\n",
      "data/file_12.pdf\n",
      "data/file_13.pdf\n",
      "data/file_14.pdf\n",
      "data/file_15.pdf\n",
      "data/file_16.pdf\n",
      "data/file_17.pdf\n",
      "data/file_18.pdf\n",
      "data/file_19.pdf\n",
      "data/file_20.pdf\n",
      "data/file_21.pdf\n",
      "data/file_22.pdf\n",
      "data/file_23.pdf\n",
      "data/file_24.pdf\n",
      "data/file_25.pdf\n",
      "data/file_26.pdf\n",
      "data/file_27.pdf\n",
      "data/file_28.pdf\n",
      "data/file_29.pdf\n",
      "data/file_30.pdf\n",
      "data/file_31.pdf\n",
      "data/file_32.pdf\n",
      "data/file_33.pdf\n",
      "data/file_34.pdf\n"
     ]
    }
   ],
   "source": [
    "path_to_raw_pdf = Path(\"./data/file.pdf\")\n",
    "\n",
    "with open(path_to_raw_pdf, \"rb\") as pdf_file:\n",
    "\n",
    "    pdf_reader = PyPDF2.PdfFileReader(pdf_file)\n",
    "    for page_num in range(pdf_reader.numPages):\n",
    "\n",
    "        pdf_page = pdf_reader.getPage(page_num)\n",
    "        writer = PyPDF2.PdfFileWriter()\n",
    "        writer.addPage(pdf_page)\n",
    "        output_file_name = path_to_raw_pdf.parent/f\"{path_to_raw_pdf.stem}_{page_num:02d}{path_to_raw_pdf.suffix}\"\n",
    "        print(output_file_name)\n",
    "        with open(output_file_name, \"wb\") as p:\n",
    "\n",
    "            writer.write(p)"
   ]
  },
  {
   "cell_type": "code",
   "execution_count": 3,
   "metadata": {},
   "outputs": [],
   "source": [
    " def write_rotated_file(pdf_to_rotate, path_to_rotated_file=None):\n",
    "\n",
    "    with open(pdf_to_rotate, \"rb\") as pdf_file:\n",
    "\n",
    "        pdf_reader = PyPDF2.PdfFileReader(pdf_file)\n",
    "        writer = PyPDF2.PdfFileWriter()\n",
    "        for page_num in range(pdf_reader.numPages):\n",
    "\n",
    "            pdf_page = pdf_reader.getPage(page_num)\n",
    "            pdf_page.rotateClockwise(90)\n",
    "            writer.addPage(pdf_page)\n",
    "\n",
    "            path_to_rotated_file = pdf_to_rotate.parent/(\n",
    "            f\"{pdf_to_rotate.stem}_rotated{pdf_to_rotate.suffix}\"\n",
    "            ) if path_to_rotated_file is None else path_to_rotated_file\n",
    "\n",
    "            print(path_to_rotated_file)\n",
    "#             break\n",
    "            with open(path_to_rotated_file, \"wb\") as p:\n",
    "\n",
    "                writer.write(p)"
   ]
  },
  {
   "cell_type": "code",
   "execution_count": 4,
   "metadata": {},
   "outputs": [],
   "source": [
    "files = ['20','21', '22', '23']"
   ]
  },
  {
   "cell_type": "code",
   "execution_count": 5,
   "metadata": {},
   "outputs": [
    {
     "name": "stdout",
     "output_type": "stream",
     "text": [
      "./data/rotate/file_20.pdf\n",
      "./data/rotate/file_21.pdf\n",
      "./data/rotate/file_22.pdf\n",
      "./data/rotate/file_23.pdf\n"
     ]
    }
   ],
   "source": [
    "for file in files:\n",
    "    path = \"./data\"+\"/file_\"+file+\".pdf\"\n",
    "    output = \"./data\"+\"/rotate/file_\"+file+\".pdf\"\n",
    "    write_rotated_file(path, output)"
   ]
  },
  {
   "cell_type": "code",
   "execution_count": 7,
   "metadata": {},
   "outputs": [
    {
     "name": "stdout",
     "output_type": "stream",
     "text": [
      "data/rotate/file_20.pdf\n",
      "data/rotate/output/file_20.pdf\n"
     ]
    },
    {
     "name": "stderr",
     "output_type": "stream",
     "text": [
      "Scanning contents: 100%|██████████| 1/1 [00:00<00:00,  4.51page/s]\n",
      "OCR: 100%|██████████| 1.0/1.0 [00:02<00:00,  2.01s/page]\n",
      "PDF/A conversion: 100%|██████████| 1/1 [00:00<00:00,  7.19page/s]\n",
      "JPEGs: 0image [00:00, ?image/s]\n",
      "JBIG2: 0item [00:00, ?item/s]\n"
     ]
    },
    {
     "name": "stdout",
     "output_type": "stream",
     "text": [
      "data/rotate/file_21.pdf\n",
      "data/rotate/output/file_21.pdf\n"
     ]
    },
    {
     "name": "stderr",
     "output_type": "stream",
     "text": [
      "Scanning contents: 100%|██████████| 1/1 [00:00<00:00,  9.78page/s]\n",
      "OCR: 100%|██████████| 1.0/1.0 [00:01<00:00,  1.82s/page]\n",
      "PDF/A conversion: 100%|██████████| 1/1 [00:00<00:00,  6.99page/s]\n",
      "JPEGs: 0image [00:00, ?image/s]\n",
      "JBIG2: 0item [00:00, ?item/s]\n"
     ]
    },
    {
     "name": "stdout",
     "output_type": "stream",
     "text": [
      "data/rotate/file_22.pdf\n",
      "data/rotate/output/file_22.pdf\n"
     ]
    },
    {
     "name": "stderr",
     "output_type": "stream",
     "text": [
      "Scanning contents: 100%|██████████| 1/1 [00:00<00:00,  9.76page/s]\n",
      "OCR: 100%|██████████| 1.0/1.0 [00:01<00:00,  1.82s/page]\n",
      "PDF/A conversion: 100%|██████████| 1/1 [00:00<00:00,  7.17page/s]\n",
      "JPEGs: 0image [00:00, ?image/s]\n",
      "JBIG2: 0item [00:00, ?item/s]\n"
     ]
    },
    {
     "name": "stdout",
     "output_type": "stream",
     "text": [
      "data/rotate/file_23.pdf\n",
      "data/rotate/output/file_23.pdf\n"
     ]
    },
    {
     "name": "stderr",
     "output_type": "stream",
     "text": [
      "Scanning contents: 100%|██████████| 1/1 [00:00<00:00,  9.84page/s]\n",
      "OCR: 100%|██████████| 1.0/1.0 [00:00<00:00,  1.23page/s]\n",
      "PDF/A conversion: 100%|██████████| 1/1 [00:00<00:00,  7.65page/s]\n",
      "JPEGs: 0image [00:00, ?image/s]\n",
      "JBIG2: 0item [00:00, ?item/s]\n"
     ]
    }
   ],
   "source": [
    "for file in files:\n",
    "    path = \"data\"+\"/rotate/file_\"+file+\".pdf\"\n",
    "    output = \"data\"+\"/rotate/output/file_\"+file+\".pdf\"\n",
    "    print(path)\n",
    "    print(output)\n",
    "    ocrmypdf.ocr(path, output, deskew=True)"
   ]
  },
  {
   "cell_type": "code",
   "execution_count": 13,
   "metadata": {},
   "outputs": [
    {
     "name": "stdout",
     "output_type": "stream",
     "text": [
      "1\n",
      "1\n",
      "1\n",
      "1\n"
     ]
    }
   ],
   "source": [
    "for file in files:\n",
    "    path = \"data\"+\"/rotate/output/file_\"+file+\".pdf\"\n",
    "    tables_a_using_default_lattice = camelot.read_pdf(str(path),\n",
    "                                               flavor='stream',\n",
    "#                                                 line_scale=100,\n",
    "#                                                 edge_tol=500,\n",
    "#                                                   backend=\"ghostscript\",\n",
    "                                               pages='1')\n",
    "    for table in tables_a_using_default_lattice:\n",
    "        print(table.page)\n",
    "        table.df.to_csv('./results/rotate_file_'+file+'.csv')"
   ]
  },
  {
   "cell_type": "code",
   "execution_count": 16,
   "metadata": {},
   "outputs": [
    {
     "name": "stdout",
     "output_type": "stream",
     "text": [
      "data/file_20.pdf\n",
      "ocr/file_20.pdf\n"
     ]
    },
    {
     "name": "stderr",
     "output_type": "stream",
     "text": [
      "Scanning contents: 100%|██████████| 1/1 [00:00<00:00,  9.74page/s]\n",
      "OCR: 100%|██████████| 1.0/1.0 [00:03<00:00,  3.22s/page]\n",
      "PDF/A conversion: 100%|██████████| 1/1 [00:00<00:00,  6.94page/s]\n",
      "JPEGs: 0image [00:00, ?image/s]\n",
      "JBIG2: 0item [00:00, ?item/s]\n"
     ]
    },
    {
     "name": "stdout",
     "output_type": "stream",
     "text": [
      "data/file_21.pdf\n",
      "ocr/file_21.pdf\n"
     ]
    },
    {
     "name": "stderr",
     "output_type": "stream",
     "text": [
      "Scanning contents: 100%|██████████| 1/1 [00:00<00:00,  9.80page/s]\n",
      "OCR: 100%|██████████| 1.0/1.0 [00:02<00:00,  2.92s/page]\n",
      "PDF/A conversion: 100%|██████████| 1/1 [00:00<00:00,  6.93page/s]\n",
      "JPEGs: 0image [00:00, ?image/s]\n",
      "JBIG2: 0item [00:00, ?item/s]\n"
     ]
    },
    {
     "name": "stdout",
     "output_type": "stream",
     "text": [
      "data/file_22.pdf\n",
      "ocr/file_22.pdf\n"
     ]
    },
    {
     "name": "stderr",
     "output_type": "stream",
     "text": [
      "Scanning contents: 100%|██████████| 1/1 [00:00<00:00,  9.83page/s]\n",
      "OCR: 100%|██████████| 1.0/1.0 [00:02<00:00,  2.52s/page]\n",
      "PDF/A conversion: 100%|██████████| 1/1 [00:00<00:00,  6.71page/s]\n",
      "JPEGs: 0image [00:00, ?image/s]\n",
      "JBIG2: 0item [00:00, ?item/s]\n"
     ]
    },
    {
     "name": "stdout",
     "output_type": "stream",
     "text": [
      "data/file_23.pdf\n",
      "ocr/file_23.pdf\n"
     ]
    },
    {
     "name": "stderr",
     "output_type": "stream",
     "text": [
      "Scanning contents: 100%|██████████| 1/1 [00:00<00:00,  9.83page/s]\n",
      "OCR: 100%|██████████| 1.0/1.0 [00:01<00:00,  1.32s/page]\n",
      "PDF/A conversion: 100%|██████████| 1/1 [00:00<00:00,  7.58page/s]\n",
      "JPEGs: 0image [00:00, ?image/s]\n",
      "JBIG2: 0item [00:00, ?item/s]\n"
     ]
    }
   ],
   "source": [
    "# without rotation\\\n",
    "for file in files:\n",
    "    path = \"data\"+\"/file_\"+file+\".pdf\"\n",
    "    output = \"ocr/file_\"+file+\".pdf\"\n",
    "    print(path)\n",
    "    print(output)\n",
    "    ocrmypdf.ocr(path, output, deskew=True)"
   ]
  },
  {
   "cell_type": "code",
   "execution_count": 17,
   "metadata": {},
   "outputs": [
    {
     "name": "stdout",
     "output_type": "stream",
     "text": [
      "1\n",
      "1\n",
      "1\n",
      "1\n",
      "1\n"
     ]
    }
   ],
   "source": [
    "for file in files:\n",
    "    path = \"ocr/file_\"+file+\".pdf\"\n",
    "    tables_a_using_default_lattice = camelot.read_pdf(str(path),\n",
    "                                               flavor='stream',\n",
    "#                                                 line_scale=100,\n",
    "#                                                 edge_tol=500,\n",
    "#                                                   backend=\"ghostscript\",\n",
    "                                               pages='1')\n",
    "    for table in tables_a_using_default_lattice:\n",
    "        print(table.page)\n",
    "        table.df.to_csv('./results/file_'+file+'.csv')"
   ]
  },
  {
   "cell_type": "code",
   "execution_count": null,
   "metadata": {},
   "outputs": [],
   "source": []
  }
 ],
 "metadata": {
  "kernelspec": {
   "display_name": "camelot_env",
   "language": "python",
   "name": "camelot_env"
  },
  "language_info": {
   "codemirror_mode": {
    "name": "ipython",
    "version": 3
   },
   "file_extension": ".py",
   "mimetype": "text/x-python",
   "name": "python",
   "nbconvert_exporter": "python",
   "pygments_lexer": "ipython3",
   "version": "3.6.12"
  }
 },
 "nbformat": 4,
 "nbformat_minor": 4
}
