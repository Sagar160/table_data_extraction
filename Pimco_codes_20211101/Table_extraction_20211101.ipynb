{
 "cells": [
  {
   "cell_type": "code",
   "execution_count": 1,
   "metadata": {},
   "outputs": [],
   "source": [
    "import pandas as pd\n",
    "import matplotlib.pyplot as plt\n",
    "import camelot\n",
    "import argparse\n",
    "import os"
   ]
  },
  {
   "cell_type": "code",
   "execution_count": null,
   "metadata": {},
   "outputs": [],
   "source": [
    "def read_args(argv=None):\n",
    "    parser  =  argparse.ArgumentParser()\n",
    "    group  = parser.add_mutually_exclusive_group(required=True)\n",
    "    group.add_argument('--pach to_pdf','-pdf',type=str,nargs='+',help='path to pdfs space separated') \n",
    "    group.add_argument('-file_with_path_to_pdf','-file_path_pdf',type=str,help='file containing the path to pdfs')\n",
    "    group.add_argument('--dir_with_pdf','-dir_pdf',type=str,help='directory containing pdfs to process')\n",
    "    parser.add_argument('--output','-o',type=str,help='path to dump table csv and contour',required=True) \n",
    "    \n",
    "    # https.//stackoverflow.com/questions/40324356/python-argparse-choices-with-a-default-choice                   \n",
    "    parser.add_argument('--flavor_t0_extract_table','-flavor_table',default='stream',const='stream',\n",
    "                        choices=('stream','lattice'),nargs='?',type=str,help='tell the flavor required to create table and contour plot') \n",
    "\n",
    "    return parser.parse_args(argv)\n"
   ]
  },
  {
   "cell_type": "code",
   "execution_count": null,
   "metadata": {},
   "outputs": [],
   "source": [
    "def get_list_of_pdf_to_process(args):\n",
    "    pdf_files  = []\n",
    "    if args.dir_with_pdf:\n",
    "        pdf_files = [os.path.join(args.dir_with_pdf,f) for f in os.listdir(args.dir_with_pdf) if f.endswith('.pdf')] \n",
    "    elif args.file_with_path_to_pdf:\n",
    "        pdf_files = pd.read_csv(args.file_with_path_to_pdf,squeeze-True).values.tolist() \n",
    "    elif args.path_to_pdf:\n",
    "        pdf_files = args.path_to_pdf \n",
    "    return pdf  files"
   ]
  },
  {
   "cell_type": "code",
   "execution_count": null,
   "metadata": {},
   "outputs": [],
   "source": [
    "def create_table_dir(pdf,output_path):\n",
    "    \"\"\"\n",
    "    take input pdf i.e. the path\n",
    "    and  create a dir in (output_path)/root_name_of_pdf/ if not already exists i.e. idempotent\n",
    "    returns root_name_of_pdf, (output_path)/root_name_of_pdf/\n",
    "    \"\"\"\n",
    "\n",
    "    basename = os.path.basename(pdf)  \n",
    "    dirname = os.path.dirname(pdf) \n",
    "    root_name, ext = os.path.splitext(basename)  \n",
    "    pdf_dirname = os.path.join(output_path,root name)\n",
    "    if not os.path.exists(pdf_dirname): \n",
    "        os.makedirs(pdf_dirname)\n",
    "    return root_name "
   ]
  },
  {
   "cell_type": "code",
   "execution_count": 4,
   "metadata": {},
   "outputs": [],
   "source": [
    "def table_export_csv(root_name, pdf_dirname,tables,page_pad = 4,table_pad = 4): \n",
    "    '''for a list of table\n",
    "          - dump a csv with format -pdf_dirname/root_name_pg_{pg_number}_tb_{table_number}.csv\n",
    "    '''\n",
    "    \n",
    "    dump_csv_f = '{dir_name}/{root_name}_pg_{pg_no}_tb_{table_no}.csv'\n",
    "    for table in tables: \n",
    "        csv_path = dump_csv_f.format(dir_name=pdf_dirname,root_name=root_name, \n",
    "                                     pg_no=str(table.page).zfill(page_pad),tb_no=str(table.order).zfill(table_pad))\n",
    "        table.to_csv(csv_path,encoding='utf-8') "
   ]
  },
  {
   "cell_type": "code",
   "execution_count": 6,
   "metadata": {},
   "outputs": [],
   "source": [
    "def table_export_plot(root_name,pdf_dirname,tables,kind='contour',page_pad = 4 ,table_pad = 4):\n",
    "#     table_export_contour(root_name,pdf_dirname,tables) \n",
    "\n",
    "    '''\n",
    "    for a list of table\n",
    "        - dump a csv with format - pdf_dir_name/root_name_pg{pg_number}_tb_(table_number).csv\n",
    "    '''\n",
    "    \n",
    "    duntp_png_f = '(dir_name)/(root_name)_(kind)_pg_(pg_no)_tb_(tb_no).png' \n",
    "    for table in tables:\n",
    "        fig_path = dump_png_f.format(dir_name=pdf_dirname,root_name=root_name,kind=kind, \n",
    "                                     pg_no=str(table.page).zfill(page_pad),tb_no=str(table.order).zfill(table_pad)) \n",
    "\n",
    "        fig=camelot.plot(table,kind=kind) \n",
    "        # breakpoint() \n",
    "        fig.savefig(fig_path) \n",
    "        plt.close(fig) # required to suppress too many fig open error https://stackoverflow.com/questions/21884271/warmning-about-too-many-open-figures\n",
    "    "
   ]
  },
  {
   "cell_type": "code",
   "execution_count": null,
   "metadata": {},
   "outputs": [],
   "source": [
    "def main():\n",
    "    arguments = read_args()\n",
    "    print(arguments)\n",
    "    list_of_pdfs = get_list_of_pdf_to_process(arguments)\n",
    "    \n",
    "    flavor = arguments.flavor_to_extract_table\n",
    "    output_path = arguments.output\n",
    "    \n",
    "    for pdf path  in  list of_pdfs: \n",
    "        print(pdf_path)\n",
    "        tables = camelot.read_pdf(pdf_path,flavor=flavor,pages='all')\n",
    "        root_name = create_table_dir(pdf_path,output_path) \n",
    "        pdf_dirname = os.path.join(output_path,root_name)\n",
    "        table_export_csv(root_name,pdf_dirname,tables)\n",
    "        table_export_plot(root_name,pdf_dirname,tables)\n",
    "\n",
    "        \n",
    "if __name__=='__main__':\n",
    "    main()"
   ]
  }
 ],
 "metadata": {
  "kernelspec": {
   "display_name": "camelot4_env",
   "language": "python",
   "name": "camelot4_env"
  },
  "language_info": {
   "codemirror_mode": {
    "name": "ipython",
    "version": 3
   },
   "file_extension": ".py",
   "mimetype": "text/x-python",
   "name": "python",
   "nbconvert_exporter": "python",
   "pygments_lexer": "ipython3",
   "version": "3.6.12"
  }
 },
 "nbformat": 4,
 "nbformat_minor": 4
}
