{
 "cells": [
  {
   "cell_type": "code",
   "execution_count": 2,
   "metadata": {},
   "outputs": [],
   "source": [
    "import pandas as pd\n",
    "import os \n",
    "import camelot\n",
    "import matplotlib.pyplot as plt \n",
    "from matplotlib import patches \n",
    "import numpy as np \n",
    "from collections import defaultdict \n",
    "from collections import Counter \n",
    "import sys \n",
    "from functools import partial \n",
    "from pathlib import Path  \n",
    "\n",
    "from camelot.utils import text_in_bbox,get_table_index\n",
    "from camelot.parsers import Lattice\n",
    "import argparse\n",
    "import json"
   ]
  },
  {
   "cell_type": "code",
   "execution_count": 7,
   "metadata": {},
   "outputs": [],
   "source": [
    "# path_to_file = sys.argv[1] # ./appl/passdatall/infersent/table_extraction/data/Apple_2019_211.pdf\n",
    "# page_no = int(sys.argv[2]) \n",
    "\n",
    "def extracr_table(path_to_file, page_no): \n",
    "    response = {\"image_path\":None,\"tables\":[],\"table_cell_coordinates\":[],\"table_vertical_line_coordinates\":dict()}\n",
    "    path_lib = Path(path_to_file) \n",
    "    base_path_dir,write_dir = path_lib.parent, path_lib.stem \n",
    "    path_to_dump = base_path_dir/write_dir \n",
    "    try:\n",
    "        os.makedirs(base_path_dir/write_dir) \n",
    "    except Exception as e: \n",
    "        print(e)\n",
    "\n",
    "    try: \n",
    "        # table_lattice = camelot.read_pdf(path file,flavor=istream.,pages=f'(page_no)') \n",
    "        tables_lattice = camelot.read_pdf(path_to_file,flavor='stream',pages=f'(page_no)')\n",
    "                        #layout_kwargs = ('char_margin':0.4)  \n",
    "                        # run CBL_4Q19_Earnings_02_06_20.pdf to see the difference \n",
    "    \n",
    "    except IndexError: \n",
    "        return {'end_of_page':True}"
   ]
  },
  {
   "cell_type": "code",
   "execution_count": 8,
   "metadata": {},
   "outputs": [],
   "source": [
    "from IPython.display import display"
   ]
  },
  {
   "cell_type": "code",
   "execution_count": 9,
   "metadata": {},
   "outputs": [],
   "source": [
    "class Page: \n",
    "    def __init__(self, height,width,fill_value=1,scale=10): \n",
    "        '''\n",
    "        create scale*height x scale*width matrix filled with fill_value\n",
    "        '''\n",
    "        self. scale = scale \n",
    "        self.height = self.to_scale(height) \n",
    "        self.width = self.to_scale(width) \n",
    "        self.fill_Value = fill_value \n",
    "        \n",
    "        self.matrix = np.full((self.height,self.width),fill_value=fill_value,dtype=np.bool)\n",
    "        \n",
    "    def to_sacale(self,val): \n",
    "        return int(val*self.scale)\n",
    "    \n",
    "    def add_patch(self,x_bottom, y_bottom,height,width,fill=True,value=0): \n",
    "        x_bottom,y_bottom,height,width = self.to_scale(x_bottom),self.to_scale(y_bottom),self.to_scale(height),self.to_scale(width) \n",
    "        # print(x_bottosai-yb!attom,heightsuidth) \n",
    "        if fill:\n",
    "            self.matrix[y_bottom:y_bottom+ height,x_bottom:x_bottom+width] = value \n",
    "        else: \n",
    "            #print(x_bottom+width,y_bottom+height) \n",
    "            \n",
    "            self.matrix[y_bottom,x_bottom:x_bottom+width]=value \n",
    "            self.matrix[y_bottom:y_bottom+height,x_bottom] = value \n",
    "            self.matrix[y_b0ttom+height,x_bottom:x_bottom+width] = value \n",
    "            \n",
    "    def show_page(self):\n",
    "        return plt.imshow(self.matrix, origin='lower')"
   ]
  },
  {
   "cell_type": "code",
   "execution_count": null,
   "metadata": {},
   "outputs": [],
   "source": [
    "page = table_lattice[0]\n",
    "bottom_left_x_of_chars, bottom_left_y_of_chars, upper_right_of_chars, upper_right_y_of_chars = zip(*page._text)"
   ]
  },
  {
   "cell_type": "code",
   "execution_count": null,
   "metadata": {},
   "outputs": [],
   "source": [
    "min_x, min_y =max(min(bottom_left_x_of_char) - 10,0), max(min(bottom_left_y_of_chars) - 10,0)\n",
    "max_x, max_y =max(upper_right_x_of_chars) + 10, max(upper_right_y_of_chars) + 10"
   ]
  },
  {
   "cell_type": "code",
   "execution_count": null,
   "metadata": {},
   "outputs": [],
   "source": [
    "min_x,min_y,max_x,max_y"
   ]
  },
  {
   "cell_type": "code",
   "execution_count": null,
   "metadata": {},
   "outputs": [],
   "source": [
    "page_ds = Page(hieght=max_y,width=max_x)"
   ]
  },
  {
   "cell_type": "code",
   "execution_count": null,
   "metadata": {},
   "outputs": [],
   "source": [
    "for tin page._text:\n",
    "    page_ds.add_patch(t[0],t[1],hieght=t[3]-t[1],width=t[2]-t[0])"
   ]
  },
  {
   "cell_type": "code",
   "execution_count": null,
   "metadata": {},
   "outputs": [],
   "source": [
    "page_ds.show_page()"
   ]
  },
  {
   "cell_type": "code",
   "execution_count": null,
   "metadata": {},
   "outputs": [],
   "source": [
    "number_of_empty_rows_in_each_column = page_ds.matrix.sum(axis=0)"
   ]
  },
  {
   "cell_type": "code",
   "execution_count": null,
   "metadata": {},
   "outputs": [],
   "source": [
    "number_of_full_rows_in_each_columns = page_ds.height - number_of_empty_rows_in_each_column"
   ]
  },
  {
   "cell_type": "code",
   "execution_count": null,
   "metadata": {},
   "outputs": [],
   "source": [
    "def get_margin(number_of_full_rows_in_each_column,gradient_threshold = 20,\n",
    "               minimum_number_of_full_rows_in_a_column=30,margin='left'):\n",
    "    '''\n",
    "    1. gradient threshold\n",
    "    2. margin = 'right' or 'left'\n",
    "    '''\n",
    " \n",
    "    breakpoint() \n",
    "    assert margin in ['right','Left'],\"margin can only be left or right but passed{}\".format(margin) \n",
    "    if margin=='right': \n",
    "        number_of_full_rows_in_each_column = number_of_full_rows_in_each_column[::-1].copy()\n",
    "        \n",
    "    gradient_number_of_full_rows_in_each_column = np.gradient(number_of_full_rows_in_each_column)\n",
    "    \n",
    "    margin_coord = np.argmax(number_of_full_rows_in_each_column > int(minimum_number_of_full_rows_in a_column)) \n",
    "    margin_coord = np.argmax(gradient_number_of_full_rows_in_each_column[margin_coord:] > int(gradient_threshold)) + margin_coord \n",
    "    \n",
    "    if margin=='right': \n",
    "        margin_coord = len(number_of_full_rows_in_each_column) - margin_coord -1  \n",
    "        \n",
    "    return margin_coord "
   ]
  },
  {
   "cell_type": "code",
   "execution_count": null,
   "metadata": {},
   "outputs": [],
   "source": [
    "threshold = 0.1 "
   ]
  },
  {
   "cell_type": "code",
   "execution_count": null,
   "metadata": {},
   "outputs": [],
   "source": [
    "left_margin_x = get_margin(number_of_full_rows_in_each_columns)"
   ]
  },
  {
   "cell_type": "code",
   "execution_count": null,
   "metadata": {},
   "outputs": [],
   "source": [
    "right_margin_x = get_margin(number_of_full_rows_in_each_column,margin='right')"
   ]
  },
  {
   "cell_type": "code",
   "execution_count": null,
   "metadata": {},
   "outputs": [],
   "source": [
    "left_margin_x, right_margin_x"
   ]
  },
  {
   "cell_type": "code",
   "execution_count": null,
   "metadata": {},
   "outputs": [],
   "source": [
    "vertical_region_under_consideration = page_ds.matrix[:,left_margin_x:right_margin_x+1].copy()"
   ]
  },
  {
   "cell_type": "code",
   "execution_count": null,
   "metadata": {},
   "outputs": [],
   "source": [
    "plt.matshow(page_ds.matrix, origin=\"lower\")"
   ]
  },
  {
   "cell_type": "code",
   "execution_count": null,
   "metadata": {},
   "outputs": [],
   "source": [
    "plt.matshow(vertical_region_under_consideration,origin='lower')"
   ]
  },
  {
   "cell_type": "code",
   "execution_count": null,
   "metadata": {},
   "outputs": [],
   "source": [
    "number_of_empty_cells_in_each_rows = vertical_region_under_consideration.sum(axis=1)"
   ]
  },
  {
   "cell_type": "code",
   "execution_count": null,
   "metadata": {},
   "outputs": [],
   "source": [
    "### first Itft index satisfying the cond \n",
    "\n",
    "def first_left_index_satisfying_cond(a,cond,enumeration_start =0):\n",
    "    \n",
    "        '''\n",
    "        Return the left most index in array a starting from enumertion_start\n",
    "        Return None if no elem satisfies the cond\n",
    "        '''\n",
    "        \n",
    "\n",
    "    for idx,num in enumerate(a[enumerationstart:],start=enumeration_start): \n",
    "        #print(idx,num,a) \n",
    "        if cond(num): \n",
    "            return idx \n",
    "    \n",
    "    return None "
   ]
  },
  {
   "cell_type": "code",
   "execution_count": null,
   "metadata": {},
   "outputs": [],
   "source": [
    "def first interval satisfying_cond(a,cond,start_index=0):\n",
    "    \n",
    "    '''\n",
    "    returns the first interval satisfying a condition starting at index start_index \n",
    "    interval follows python slice convention where last index is exclusive\n",
    "    '''\n",
    "\n",
    "    not cond = lambda x:not(cond(x))\n",
    "    \n",
    "    interval_start = first_left_indexsatisfying_cond(a,cond,start_index) \n",
    "    if interval_start is None: \n",
    "        return () \n",
    "#     interval_start_not_cond = first_left_index_satisfying_cond(a,not_cond,interVal_star \n",
    "#     if interval_start_not_cond is None: \n",
    "#     return (interval_start,len(a)) \n",
    "#     interval_end = interval_start_not_cond \n",
    "    interval_end = first_left_index_satisfying_cond(a,not_cond,interval_start)   \n",
    "    interval_end = interval_end if interval_end else len(a) \n",
    "    return (interval_start,interval_end) "
   ]
  },
  {
   "cell_type": "code",
   "execution_count": null,
   "metadata": {},
   "outputs": [],
   "source": [
    "def interval_matching(a,cond):\n",
    "    \n",
    "    '''\n",
    "    Return contiguous range of intervals satisfying a given cond \n",
    "    Range conform to python range convention where end is exclusive\n",
    "    '''\n",
    "\n",
    "    intervals_satisfying_cond = [] \n",
    "    current_interval = first_interval_satisfying_cond(a,cond) \n",
    "    if not current_interval: \n",
    "        return intervals_satisfying_cond \n",
    "    previous_interval_start , previous_interval_end = current_interval \n",
    "    intervals_satisfying_cond.append(current_interval)\n",
    "    \n",
    "    while previous_interval_end <= len(a): \n",
    "        current_interval = first_interval_satisfying_cond(a,cond,previous_interval_end) \n",
    "        if not current_interval: break \n",
    "        previous_interval_start , previous_interval_end = current_interval \n",
    "        intervals_satisfying_cond.append(current_interval)\n",
    "        \n",
    "    return intervals_satisfying_cond "
   ]
  },
  {
   "cell_type": "code",
   "execution_count": 1,
   "metadata": {},
   "outputs": [],
   "source": [
    "def interval_merge_cond(prev_interval,curr_interval,allowed_gap_between_interval=0):\n",
    "    prev_interval_end = prev_interval[1]\n",
    "    curr_interval_start = curr_interval[0]\n",
    "    return (curr_interval_start - prev_interval_end) <= allowed_gap_between_interval"
   ]
  },
  {
   "cell_type": "code",
   "execution_count": null,
   "metadata": {},
   "outputs": [],
   "source": [
    "hieght_of_the_region = Counter([x2-x1 for x1,x2 in region_with_not_all_rows_zero])"
   ]
  },
  {
   "cell_type": "code",
   "execution_count": null,
   "metadata": {},
   "outputs": [],
   "source": [
    "height_of_the_region"
   ]
  },
  {
   "cell_type": "code",
   "execution_count": null,
   "metadata": {},
   "outputs": [],
   "source": [
    "line_width = height_of_the_region.most_common(1)[0][0]\n",
    "print(\"line_width: \",line_width,\"--------------------\")"
   ]
  },
  {
   "cell_type": "code",
   "execution_count": null,
   "metadata": {},
   "outputs": [],
   "source": [
    "allowed_gap_between_interval = 10"
   ]
  },
  {
   "cell_type": "code",
   "execution_count": null,
   "metadata": {},
   "outputs": [],
   "source": [
    "gap_merging_cond = partial(interval_marging_cond_allowed_gap_between_interval=allowed_gap_between_interval)"
   ]
  },
  {
   "cell_type": "code",
   "execution_count": null,
   "metadata": {},
   "outputs": [],
   "source": [
    "merged_region_with_not_all_rows_zero = merge_interval(region_with_not_all_rows_zeros, gap_marging_cond)"
   ]
  },
  {
   "cell_type": "code",
   "execution_count": null,
   "metadata": {},
   "outputs": [],
   "source": [
    "fig_region_bar_plot, ax_region_bar_plot = plt.subplots(len(mergerd_region_with_not_all_rows_zero),3,sharex=True)\n",
    "ax_region_bar_plot = np.atleast_2d(ax_region_bar_plot)\n",
    "\n",
    "for idx,region in enumerate(reversed(merged_region_with_not_all_rows_zero)):\n",
    "    number_of_empty_rows_in_each_column_of_a_region = page_ds.matrix[region[0]:region[1],left_margion_x:right_margin_x].sum(axis=0)\n",
    "    width_of_region = region[1] - region[0]\n",
    "    number_of_full_rows_in_each_column_of_a_region = width_of_region - number_of_empty_rows_in_each_column_of_a_region\n",
    "    \n",
    "    ax_region_bar_plot[idx][0].plot(np.arange(len(number_of_full_rows_in_each_column_of_a_region)),\n",
    "                                    number_of_full_rows_in_each_rows_ineach_column_of_a_region/width_of_region)\n",
    "    ax_region_bar_plot[idx][1].matshow(page_ds.matrix[region[0]:region[1],left_margin_x:right_margin_x],origin='lower',aspect=3)\n",
    "    ax_region_bar_plot[idx][2].plot(np.arange(len(number_of_full_rows_in_each_column_of_a_region)),\n",
    "                                    np.gradient(number_of_full_rows_in_each_rows_ineach_column_of_a_region/width_of_region))"
   ]
  },
  {
   "cell_type": "code",
   "execution_count": null,
   "metadata": {},
   "outputs": [],
   "source": [
    "def map_spanning_interval_to_constituent_intervals(spanning_intervals,constituent_interval):\n",
    "    \n",
    "    '''\n",
    "    this is an after thought function. one can Change the merge interval function on cond to get the same output\n",
    "    assumes both apanning_interval and constituent_intervalsare sorted (function behaviour is not checked for\n",
    "    intervals that are overlappimg, so assume intervals are not overlapping)\n",
    "    both the spanning_interval and constituent_interval are list of intervals\n",
    "    \n",
    "    returns: a dictionary with key -> an elem from spanning interval and value -> list of constituent interval that spanned by the keys\n",
    "    '''\n",
    " \n",
    "    span idx,constituent_idx = 0,0\n",
    "    span_dict = defaultdict(list) \n",
    "    while span_idx < len(spanning_intervals) and constituent_idx < len(constituent_intervals): \n",
    "        span_start,span_end = spanning_intervals[span_idx] \n",
    "        constituent_start,constituent_end = constituent_intervals[constituent_idx]\n",
    "        # span condition ,one may refactcr t, pass a custom spanning function, say touching function \n",
    "        if (span_start <= constisuent_start) and (span_end >= constituent_end): \n",
    "            span_dict[span_start,span_end].append((constituent_start,constituent_end)) \n",
    "            constituent_indx+=1\n",
    "        else:\n",
    "            span_idx+=1 \n",
    "    return span_dict "
   ]
  },
  {
   "cell_type": "code",
   "execution_count": null,
   "metadata": {},
   "outputs": [],
   "source": [
    "spanning_interval_to_consttuent_interval = map_spanning_interval_to_constituent_intervals(merged_region_with_not_all_rows_zero)\n",
    "merged_region_with_not_all_rows_zero, region_with_not_all_rows_zero\n",
    "spanning_interval_to_constituent_intervals"
   ]
  },
  {
   "cell_type": "code",
   "execution_count": null,
   "metadata": {},
   "outputs": [],
   "source": [
    "def line_in_a_region(page_matrix,interval,relative_gradient_threshold = 0.1): \n",
    "    \n",
    "    '''\n",
    "    Please revisit later\n",
    "    currently the line dectector is lossy - in the sense that it may remove 1 pixel row from top and below if the \n",
    "    region_with_not_all_rows_zero have 2 lines\n",
    "    '''\n",
    "    \n",
    "    cell_filled_in_a_row = page_matrix[interval[0]:interval[1]].sum(axis=1) \n",
    "    fill_row_gradient = np.gradient(cell_filled_in_a_row) \n",
    "    fill_row_gradient_relative = np.gradient(cell_filled_in_a_row)/cell_filled_in_a_row \n",
    "    idx_with_relative_gradient_lte_threshold = (np.abs(fill_row_gradient_relative) <= relative_gradient_threshold)\n",
    "#     print(np.abs(fill_row_gradient_relative)) \n",
    "    lines_in_the_region = intervals_matching_cond(idx_with relative_gradient_lte_threshold,cond=lambda x:x) \n",
    "    lines_in_the_region_offset_by_start_idx = [(x+interval[0],y+interval[0]) for x,y in lines_in_the_region]\n",
    "    \n",
    "    return lines_in_the_region_offset_by_start_idx \n",
    "#     a check relative gradient never exceeds 30%  \n",
    "#     if relative gradient exceeds 30 \n",
    "    # get region of zero gradients a return\n",
    "    # retuen them as different line "
   ]
  },
  {
   "cell_type": "code",
   "execution_count": null,
   "metadata": {},
   "outputs": [],
   "source": []
  },
  {
   "cell_type": "code",
   "execution_count": null,
   "metadata": {},
   "outputs": [],
   "source": []
  },
  {
   "cell_type": "code",
   "execution_count": null,
   "metadata": {},
   "outputs": [],
   "source": []
  }
 ],
 "metadata": {
  "kernelspec": {
   "display_name": "camelot4_env",
   "language": "python",
   "name": "camelot4_env"
  },
  "language_info": {
   "codemirror_mode": {
    "name": "ipython",
    "version": 3
   },
   "file_extension": ".py",
   "mimetype": "text/x-python",
   "name": "python",
   "nbconvert_exporter": "python",
   "pygments_lexer": "ipython3",
   "version": "3.6.12"
  }
 },
 "nbformat": 4,
 "nbformat_minor": 4
}
